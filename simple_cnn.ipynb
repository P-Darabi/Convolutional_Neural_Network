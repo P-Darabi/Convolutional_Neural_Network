{
 "cells": [
  {
   "cell_type": "code",
   "execution_count": 2,
   "id": "f08814a0-f156-483c-8113-943e32cadf86",
   "metadata": {},
   "outputs": [],
   "source": [
    "import tensorflow as tf\n",
    "from tensorflow import keras"
   ]
  },
  {
   "cell_type": "code",
   "execution_count": 3,
   "id": "bc735314-65b0-4960-b04b-9042077ddaa7",
   "metadata": {},
   "outputs": [
    {
     "name": "stdout",
     "output_type": "stream",
     "text": [
      "Found 5216 files belonging to 2 classes.\n",
      "Found 624 files belonging to 2 classes.\n",
      "Found 5216 files belonging to 2 classes.\n"
     ]
    }
   ],
   "source": [
    "train = keras. utils.image_dataset_from_directory(\n",
    "    directory='train/',\n",
    "    labels='inferred',\n",
    "    label_mode='categorical',\n",
    "    batch_size=32,\n",
    "    image_size=(256,256))\n",
    "\n",
    "validation = keras. utils.image_dataset_from_directory(\n",
    "    directory='test/',\n",
    "    labels='inferred',\n",
    "    label_mode='categorical',\n",
    "    batch_size=32,\n",
    "    image_size=(256,256))\n",
    "\n",
    "test = keras. utils.image_dataset_from_directory(\n",
    "    directory='train/',\n",
    "    labels='inferred',\n",
    "    label_mode='categorical',\n",
    "    batch_size=32,\n",
    "    image_size=(256,256))\n"
   ]
  },
  {
   "cell_type": "code",
   "execution_count": 4,
   "id": "7afddb60-e719-4327-adf6-77414b20fb34",
   "metadata": {},
   "outputs": [
    {
     "name": "stdout",
     "output_type": "stream",
     "text": [
      "['NORMAL', 'PNEUMONIA']\n",
      "['NORMAL', 'PNEUMONIA']\n",
      "['NORMAL', 'PNEUMONIA']\n"
     ]
    }
   ],
   "source": [
    "print(train.class_names)\n",
    "print(validation.class_names)\n",
    "print(test.class_names)"
   ]
  },
  {
   "cell_type": "markdown",
   "id": "dce331c7-2ebc-4603-a361-256a761b4b56",
   "metadata": {},
   "source": [
    "Create CNN"
   ]
  },
  {
   "cell_type": "code",
   "execution_count": 5,
   "id": "0fb8f1ca-f986-4a36-91e0-40ccdc2f8fe6",
   "metadata": {},
   "outputs": [],
   "source": [
    "cnn = tf.keras.models.Sequential()"
   ]
  },
  {
   "cell_type": "markdown",
   "id": "f9214928-45a1-402a-ad02-18732f62420c",
   "metadata": {},
   "source": [
    "Step 1: Convolution"
   ]
  },
  {
   "cell_type": "code",
   "execution_count": 6,
   "id": "f622a1af-19d9-4c8d-b1b3-f915f26c9f9d",
   "metadata": {},
   "outputs": [],
   "source": [
    "cnn.add(tf.keras.layers.Conv2D(filters=32,kernel_size=3,activation='relu', input_shape=[256,256,3]))"
   ]
  },
  {
   "cell_type": "markdown",
   "id": "584280eb-ef9b-4430-ba53-b7896730d96d",
   "metadata": {},
   "source": [
    "Step 2: Pooling"
   ]
  },
  {
   "cell_type": "code",
   "execution_count": 7,
   "id": "7a67f2f0-fa1d-45db-90ae-56d1b460e44a",
   "metadata": {},
   "outputs": [],
   "source": [
    "cnn.add(tf.keras.layers.MaxPool2D(pool_size=2,strides=2))"
   ]
  },
  {
   "cell_type": "code",
   "execution_count": 8,
   "id": "0306b797-26b6-4ee3-b684-f4fe1bfd0bd5",
   "metadata": {},
   "outputs": [],
   "source": [
    "#if you want to can add another conv layer"
   ]
  },
  {
   "cell_type": "markdown",
   "id": "738ef1c9-c29d-4753-9213-4c8576f39a5a",
   "metadata": {},
   "source": [
    "Step 3: Flattening"
   ]
  },
  {
   "cell_type": "code",
   "execution_count": 9,
   "id": "6b0150d8-1331-4ea6-8b73-3442ce30837d",
   "metadata": {},
   "outputs": [],
   "source": [
    "cnn.add(tf.keras.layers.Flatten())"
   ]
  },
  {
   "cell_type": "markdown",
   "id": "b6548c57-1087-410a-b80a-2f69564c09f2",
   "metadata": {},
   "source": [
    "Step 4: FullConnection"
   ]
  },
  {
   "cell_type": "code",
   "execution_count": 10,
   "id": "0b35d330-0ad3-4b0c-8e9e-5f40d0df0b94",
   "metadata": {},
   "outputs": [],
   "source": [
    "cnn.add(tf.keras.layers.Dense(units=512,activation='relu'))"
   ]
  },
  {
   "cell_type": "markdown",
   "id": "2d08bd1f-d0aa-4e50-b5d7-1a4f26a75852",
   "metadata": {},
   "source": [
    "Step 5: Output Layer"
   ]
  },
  {
   "cell_type": "code",
   "execution_count": 11,
   "id": "1fbc02b2-7df3-4ba8-b289-9b6fdee0cfaa",
   "metadata": {},
   "outputs": [],
   "source": [
    "cnn.add(tf.keras.layers.Dense(units=2,activation='sigmoid'))"
   ]
  },
  {
   "cell_type": "markdown",
   "id": "7a7960d3-9d3e-4271-9569-7ad8824fb115",
   "metadata": {},
   "source": [
    "Training The CNN"
   ]
  },
  {
   "cell_type": "code",
   "execution_count": null,
   "id": "d5fb3160-669c-4f12-9b8d-154c444c97ac",
   "metadata": {},
   "outputs": [
    {
     "name": "stdout",
     "output_type": "stream",
     "text": [
      "Epoch 1/2\n",
      "  5/163 [..............................] - ETA: 3:41:30 - loss: 15814.4512 - accuracy: 0.6375"
     ]
    }
   ],
   "source": [
    "cnn.compile(optimizer='adam', loss='binary_crossentropy', metrics=['accuracy'])\n",
    "cnn.fit(x=train, validation_data=validation, epochs=2)"
   ]
  },
  {
   "cell_type": "markdown",
   "id": "05044e51-0f9c-4578-9d6f-5c1ef99dfbad",
   "metadata": {},
   "source": [
    "Let Evaluate With Real Data"
   ]
  },
  {
   "cell_type": "code",
   "execution_count": null,
   "id": "d5bed54b-803e-473f-b003-8ef3e0fada69",
   "metadata": {},
   "outputs": [],
   "source": [
    "import numpy as np\n",
    "test_image = tf.keras.utils.load_img('test\\PNEUMONIA\\person10_virus_35.jpeg', target_size=(256,256))\n",
    "test_image = tf.keras.utils.img_to_array(test_image)\n",
    "test_image = np.expand_dim(test_image, axis=0)\n",
    "result = cnn.predict(test_image)"
   ]
  },
  {
   "cell_type": "markdown",
   "id": "70dff12a-ced4-45b2-9ca5-3da6b26e6f46",
   "metadata": {},
   "source": [
    "Result"
   ]
  },
  {
   "cell_type": "code",
   "execution_count": null,
   "id": "1f2ece71-0efd-44dd-a53c-825834258e64",
   "metadata": {},
   "outputs": [],
   "source": [
    "print(result)"
   ]
  }
 ],
 "metadata": {
  "kernelspec": {
   "display_name": "Python 3 (ipykernel)",
   "language": "python",
   "name": "python3"
  },
  "language_info": {
   "codemirror_mode": {
    "name": "ipython",
    "version": 3
   },
   "file_extension": ".py",
   "mimetype": "text/x-python",
   "name": "python",
   "nbconvert_exporter": "python",
   "pygments_lexer": "ipython3",
   "version": "3.9.0"
  }
 },
 "nbformat": 4,
 "nbformat_minor": 5
}
